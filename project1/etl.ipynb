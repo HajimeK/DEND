{
 "cells": [
  {
   "cell_type": "markdown",
   "metadata": {},
   "source": [
    "# ETL Processes\n",
    "Use this notebook to develop the ETL process for each of your tables before completing the `etl.py` file to load the whole datasets."
   ]
  },
  {
   "cell_type": "code",
   "execution_count": 1,
   "metadata": {},
   "outputs": [],
   "source": [
    "%load_ext autoreload\n",
    "%autoreload 2"
   ]
  },
  {
   "cell_type": "code",
   "execution_count": 2,
   "metadata": {},
   "outputs": [],
   "source": [
    "import os\n",
    "import glob\n",
    "import psycopg2\n",
    "import pandas as pd\n",
    "from python.sql_queries import *"
   ]
  },
  {
   "cell_type": "markdown",
   "metadata": {},
   "source": [
    "As running local docker contaitner, configured the connection as below to adjust."
   ]
  },
  {
   "cell_type": "code",
   "execution_count": 3,
   "metadata": {},
   "outputs": [],
   "source": [
    "#connect_setting=\"host=127.0.0.1 dbname=sparkifydb user=student password=student\"\n",
    "connect_setting=\"host=172.17.0.2 dbname=sparkifydb user=student password=student\""
   ]
  },
  {
   "cell_type": "code",
   "execution_count": 4,
   "metadata": {},
   "outputs": [],
   "source": [
    "conn = psycopg2.connect(connect_setting)\n",
    "cur = conn.cursor()"
   ]
  },
  {
   "cell_type": "code",
   "execution_count": 5,
   "metadata": {},
   "outputs": [],
   "source": [
    "def get_files(filepath):\n",
    "    all_files = []\n",
    "    for root, dirs, files in os.walk(filepath):\n",
    "        files = glob.glob(os.path.join(root,'*.json'))\n",
    "        for f in files :\n",
    "            all_files.append(os.path.abspath(f))\n",
    "    \n",
    "    return all_files"
   ]
  },
  {
   "cell_type": "markdown",
   "metadata": {},
   "source": [
    "# Process `song_data`\n",
    "In this first part, you'll perform ETL on the first dataset, `song_data`, to create the `songs` and `artists` dimensional tables.\n",
    "\n",
    "Let's perform ETL on a single song file and load a single record into each table to start.\n",
    "- Use the `get_files` function provided above to get a list of all song JSON files in `data/song_data`\n",
    "- Select the first song in this list\n",
    "- Read the song file and view the data"
   ]
  },
  {
   "cell_type": "code",
   "execution_count": 6,
   "metadata": {},
   "outputs": [],
   "source": [
    "song_files = get_files('data/song_data')"
   ]
  },
  {
   "cell_type": "code",
   "execution_count": 7,
   "metadata": {},
   "outputs": [
    {
     "data": {
      "text/plain": [
       "'/home/hk/git/DEND/project1/data/song_data/A/A/A/TRAAABD128F429CF47.json'"
      ]
     },
     "execution_count": 7,
     "metadata": {},
     "output_type": "execute_result"
    }
   ],
   "source": [
    "filepath = song_files[0]\n",
    "filepath"
   ]
  },
  {
   "cell_type": "code",
   "execution_count": 8,
   "metadata": {},
   "outputs": [
    {
     "data": {
      "text/html": [
       "<div>\n",
       "<style scoped>\n",
       "    .dataframe tbody tr th:only-of-type {\n",
       "        vertical-align: middle;\n",
       "    }\n",
       "\n",
       "    .dataframe tbody tr th {\n",
       "        vertical-align: top;\n",
       "    }\n",
       "\n",
       "    .dataframe thead th {\n",
       "        text-align: right;\n",
       "    }\n",
       "</style>\n",
       "<table border=\"1\" class=\"dataframe\">\n",
       "  <thead>\n",
       "    <tr style=\"text-align: right;\">\n",
       "      <th></th>\n",
       "      <th>num_songs</th>\n",
       "      <th>artist_id</th>\n",
       "      <th>artist_latitude</th>\n",
       "      <th>artist_longitude</th>\n",
       "      <th>artist_location</th>\n",
       "      <th>artist_name</th>\n",
       "      <th>song_id</th>\n",
       "      <th>title</th>\n",
       "      <th>duration</th>\n",
       "      <th>year</th>\n",
       "    </tr>\n",
       "  </thead>\n",
       "  <tbody>\n",
       "    <tr>\n",
       "      <th>0</th>\n",
       "      <td>1</td>\n",
       "      <td>ARMJAGH1187FB546F3</td>\n",
       "      <td>35.14968</td>\n",
       "      <td>-90.04892</td>\n",
       "      <td>Memphis, TN</td>\n",
       "      <td>The Box Tops</td>\n",
       "      <td>SOCIWDW12A8C13D406</td>\n",
       "      <td>Soul Deep</td>\n",
       "      <td>148.03546</td>\n",
       "      <td>1969</td>\n",
       "    </tr>\n",
       "  </tbody>\n",
       "</table>\n",
       "</div>"
      ],
      "text/plain": [
       "   num_songs           artist_id  artist_latitude  artist_longitude  \\\n",
       "0          1  ARMJAGH1187FB546F3         35.14968         -90.04892   \n",
       "\n",
       "  artist_location   artist_name             song_id      title   duration  \\\n",
       "0     Memphis, TN  The Box Tops  SOCIWDW12A8C13D406  Soul Deep  148.03546   \n",
       "\n",
       "   year  \n",
       "0  1969  "
      ]
     },
     "execution_count": 8,
     "metadata": {},
     "output_type": "execute_result"
    }
   ],
   "source": [
    "df = pd.read_json(filepath, lines=True, orient='columns')\n",
    "df.head()"
   ]
  },
  {
   "cell_type": "code",
   "execution_count": 9,
   "metadata": {},
   "outputs": [
    {
     "data": {
      "text/plain": [
       "Index(['num_songs', 'artist_id', 'artist_latitude', 'artist_longitude',\n",
       "       'artist_location', 'artist_name', 'song_id', 'title', 'duration',\n",
       "       'year'],\n",
       "      dtype='object')"
      ]
     },
     "execution_count": 9,
     "metadata": {},
     "output_type": "execute_result"
    }
   ],
   "source": [
    "df.keys()"
   ]
  },
  {
   "cell_type": "markdown",
   "metadata": {},
   "source": [
    "## #1: `songs` Table\n",
    "#### Extract Data for Songs Table\n",
    "- Select columns for song ID, title, artist ID, year, and duration\n",
    "- Use `df.values` to select just the values from the dataframe\n",
    "- Index to select the first (only) record in the dataframe\n",
    "- Convert the array to a list and set it to `song_data`"
   ]
  },
  {
   "cell_type": "code",
   "execution_count": 10,
   "metadata": {},
   "outputs": [
    {
     "data": {
      "text/plain": [
       "('SOCIWDW12A8C13D406', 'Soul Deep', 'ARMJAGH1187FB546F3', 1969, 148.03546)"
      ]
     },
     "execution_count": 10,
     "metadata": {},
     "output_type": "execute_result"
    }
   ],
   "source": [
    "song_data = (df.values[0][6], df.values[0][7], df.values[0][1], df.values[0][9], df.values[0][8])\n",
    "song_data"
   ]
  },
  {
   "cell_type": "markdown",
   "metadata": {},
   "source": [
    "Think below is better as the order of keys is not controllable always."
   ]
  },
  {
   "cell_type": "code",
   "execution_count": 11,
   "metadata": {},
   "outputs": [
    {
     "data": {
      "text/plain": [
       "('SOCIWDW12A8C13D406', 'Soul Deep', 'ARMJAGH1187FB546F3', 1969, 148.03546)"
      ]
     },
     "execution_count": 11,
     "metadata": {},
     "output_type": "execute_result"
    }
   ],
   "source": [
    "song_data_bykey = (df['song_id'][0], df['title'][0], df['artist_id'][0], df['year'][0], df['duration'][0])\n",
    "song_data_bykey"
   ]
  },
  {
   "cell_type": "markdown",
   "metadata": {},
   "source": [
    "#### Insert Record into Song Table\n",
    "Implement the `song_table_insert` query in `sql_queries.py` and run the cell below to insert a record for this song into the `songs` table. Remember to run `create_tables.py` before running the cell below to ensure you've created/resetted the `songs` table in the sparkify database."
   ]
  },
  {
   "cell_type": "code",
   "execution_count": 12,
   "metadata": {},
   "outputs": [],
   "source": [
    "cur.execute(song_table_insert, song_data)\n",
    "conn.commit()"
   ]
  },
  {
   "cell_type": "markdown",
   "metadata": {},
   "source": [
    "Run `test.ipynb` to see if you've successfully added a record to this table."
   ]
  },
  {
   "cell_type": "markdown",
   "metadata": {},
   "source": [
    "## #2: `artists` Table\n",
    "#### Extract Data for Artists Table\n",
    "- Select columns for artist ID, name, location, latitude, and longitude\n",
    "- Use `df.values` to select just the values from the dataframe\n",
    "- Index to select the first (only) record in the dataframe\n",
    "- Convert the array to a list and set it to `artist_data`"
   ]
  },
  {
   "cell_type": "code",
   "execution_count": 13,
   "metadata": {},
   "outputs": [
    {
     "data": {
      "text/plain": [
       "('ARMJAGH1187FB546F3', 'The Box Tops', 'Memphis, TN', 35.14968, -90.04892)"
      ]
     },
     "execution_count": 13,
     "metadata": {},
     "output_type": "execute_result"
    }
   ],
   "source": [
    "artist_data = (df.values[0][1], df.values[0][5], df.values[0][4], df.values[0][2], df.values[0][3])\n",
    "artist_data"
   ]
  },
  {
   "cell_type": "code",
   "execution_count": 14,
   "metadata": {},
   "outputs": [
    {
     "data": {
      "text/plain": [
       "('ARMJAGH1187FB546F3', 'The Box Tops', 'Memphis, TN', 35.14968, -90.04892)"
      ]
     },
     "execution_count": 14,
     "metadata": {},
     "output_type": "execute_result"
    }
   ],
   "source": [
    "artist_data_bykey = (df['artist_id'][0], df['artist_name'][0], df['artist_location'][0], df['artist_latitude'][0], df['artist_longitude'][0])\n",
    "artist_data_bykey"
   ]
  },
  {
   "cell_type": "markdown",
   "metadata": {},
   "source": [
    "#### Insert Record into Artist Table\n",
    "Implement the `artist_table_insert` query in `sql_queries.py` and run the cell below to insert a record for this song's artist into the `artists` table. Remember to run `create_tables.py` before running the cell below to ensure you've created/resetted the `artists` table in the sparkify database."
   ]
  },
  {
   "cell_type": "code",
   "execution_count": 15,
   "metadata": {},
   "outputs": [],
   "source": [
    "cur.execute(artist_table_insert, artist_data)\n",
    "conn.commit()"
   ]
  },
  {
   "cell_type": "markdown",
   "metadata": {},
   "source": [
    "Run `test.ipynb` to see if you've successfully added a record to this table."
   ]
  },
  {
   "cell_type": "markdown",
   "metadata": {},
   "source": [
    "# Process `log_data`\n",
    "In this part, you'll perform ETL on the second dataset, `log_data`, to create the `time` and `users` dimensional tables, as well as the `songplays` fact table.\n",
    "\n",
    "Let's perform ETL on a single log file and load a single record into each table.\n",
    "- Use the `get_files` function provided above to get a list of all log JSON files in `data/log_data`\n",
    "- Select the first log file in this list\n",
    "- Read the log file and view the data"
   ]
  },
  {
   "cell_type": "code",
   "execution_count": 16,
   "metadata": {},
   "outputs": [],
   "source": [
    "log_files  = get_files(\"./data/log_data\")"
   ]
  },
  {
   "cell_type": "code",
   "execution_count": 17,
   "metadata": {},
   "outputs": [],
   "source": [
    "filepath = log_files[0]"
   ]
  },
  {
   "cell_type": "code",
   "execution_count": 18,
   "metadata": {},
   "outputs": [
    {
     "data": {
      "text/html": [
       "<div>\n",
       "<style scoped>\n",
       "    .dataframe tbody tr th:only-of-type {\n",
       "        vertical-align: middle;\n",
       "    }\n",
       "\n",
       "    .dataframe tbody tr th {\n",
       "        vertical-align: top;\n",
       "    }\n",
       "\n",
       "    .dataframe thead th {\n",
       "        text-align: right;\n",
       "    }\n",
       "</style>\n",
       "<table border=\"1\" class=\"dataframe\">\n",
       "  <thead>\n",
       "    <tr style=\"text-align: right;\">\n",
       "      <th></th>\n",
       "      <th>artist</th>\n",
       "      <th>auth</th>\n",
       "      <th>firstName</th>\n",
       "      <th>gender</th>\n",
       "      <th>itemInSession</th>\n",
       "      <th>lastName</th>\n",
       "      <th>length</th>\n",
       "      <th>level</th>\n",
       "      <th>location</th>\n",
       "      <th>method</th>\n",
       "      <th>page</th>\n",
       "      <th>registration</th>\n",
       "      <th>sessionId</th>\n",
       "      <th>song</th>\n",
       "      <th>status</th>\n",
       "      <th>ts</th>\n",
       "      <th>userAgent</th>\n",
       "      <th>userId</th>\n",
       "    </tr>\n",
       "  </thead>\n",
       "  <tbody>\n",
       "    <tr>\n",
       "      <th>0</th>\n",
       "      <td>Great Lake Swimmers</td>\n",
       "      <td>Logged In</td>\n",
       "      <td>Kevin</td>\n",
       "      <td>M</td>\n",
       "      <td>0</td>\n",
       "      <td>Arellano</td>\n",
       "      <td>215.11791</td>\n",
       "      <td>free</td>\n",
       "      <td>Harrisburg-Carlisle, PA</td>\n",
       "      <td>PUT</td>\n",
       "      <td>NextSong</td>\n",
       "      <td>1.540007e+12</td>\n",
       "      <td>815</td>\n",
       "      <td>Your Rocky Spine</td>\n",
       "      <td>200</td>\n",
       "      <td>1542931645796</td>\n",
       "      <td>\"Mozilla/5.0 (Macintosh; Intel Mac OS X 10_9_4...</td>\n",
       "      <td>66</td>\n",
       "    </tr>\n",
       "    <tr>\n",
       "      <th>1</th>\n",
       "      <td>Soziedad Alkoholika</td>\n",
       "      <td>Logged In</td>\n",
       "      <td>Kevin</td>\n",
       "      <td>M</td>\n",
       "      <td>1</td>\n",
       "      <td>Arellano</td>\n",
       "      <td>204.74730</td>\n",
       "      <td>free</td>\n",
       "      <td>Harrisburg-Carlisle, PA</td>\n",
       "      <td>PUT</td>\n",
       "      <td>NextSong</td>\n",
       "      <td>1.540007e+12</td>\n",
       "      <td>815</td>\n",
       "      <td>Va Bien</td>\n",
       "      <td>200</td>\n",
       "      <td>1542931860796</td>\n",
       "      <td>\"Mozilla/5.0 (Macintosh; Intel Mac OS X 10_9_4...</td>\n",
       "      <td>66</td>\n",
       "    </tr>\n",
       "    <tr>\n",
       "      <th>2</th>\n",
       "      <td>Franz Ferdinand</td>\n",
       "      <td>Logged In</td>\n",
       "      <td>Kevin</td>\n",
       "      <td>M</td>\n",
       "      <td>2</td>\n",
       "      <td>Arellano</td>\n",
       "      <td>172.01587</td>\n",
       "      <td>free</td>\n",
       "      <td>Harrisburg-Carlisle, PA</td>\n",
       "      <td>PUT</td>\n",
       "      <td>NextSong</td>\n",
       "      <td>1.540007e+12</td>\n",
       "      <td>815</td>\n",
       "      <td>Eleanor Put Your Boots On</td>\n",
       "      <td>200</td>\n",
       "      <td>1542932064796</td>\n",
       "      <td>\"Mozilla/5.0 (Macintosh; Intel Mac OS X 10_9_4...</td>\n",
       "      <td>66</td>\n",
       "    </tr>\n",
       "    <tr>\n",
       "      <th>3</th>\n",
       "      <td>Modest Mouse</td>\n",
       "      <td>Logged In</td>\n",
       "      <td>Kevin</td>\n",
       "      <td>M</td>\n",
       "      <td>3</td>\n",
       "      <td>Arellano</td>\n",
       "      <td>209.52771</td>\n",
       "      <td>free</td>\n",
       "      <td>Harrisburg-Carlisle, PA</td>\n",
       "      <td>PUT</td>\n",
       "      <td>NextSong</td>\n",
       "      <td>1.540007e+12</td>\n",
       "      <td>815</td>\n",
       "      <td>Float On</td>\n",
       "      <td>200</td>\n",
       "      <td>1542932236796</td>\n",
       "      <td>\"Mozilla/5.0 (Macintosh; Intel Mac OS X 10_9_4...</td>\n",
       "      <td>66</td>\n",
       "    </tr>\n",
       "    <tr>\n",
       "      <th>4</th>\n",
       "      <td>Adam Lambert</td>\n",
       "      <td>Logged In</td>\n",
       "      <td>Kevin</td>\n",
       "      <td>M</td>\n",
       "      <td>4</td>\n",
       "      <td>Arellano</td>\n",
       "      <td>266.44853</td>\n",
       "      <td>free</td>\n",
       "      <td>Harrisburg-Carlisle, PA</td>\n",
       "      <td>PUT</td>\n",
       "      <td>NextSong</td>\n",
       "      <td>1.540007e+12</td>\n",
       "      <td>815</td>\n",
       "      <td>Aftermath</td>\n",
       "      <td>200</td>\n",
       "      <td>1542932445796</td>\n",
       "      <td>\"Mozilla/5.0 (Macintosh; Intel Mac OS X 10_9_4...</td>\n",
       "      <td>66</td>\n",
       "    </tr>\n",
       "  </tbody>\n",
       "</table>\n",
       "</div>"
      ],
      "text/plain": [
       "                artist       auth firstName gender  itemInSession  lastName  \\\n",
       "0  Great Lake Swimmers  Logged In     Kevin      M              0  Arellano   \n",
       "1  Soziedad Alkoholika  Logged In     Kevin      M              1  Arellano   \n",
       "2      Franz Ferdinand  Logged In     Kevin      M              2  Arellano   \n",
       "3         Modest Mouse  Logged In     Kevin      M              3  Arellano   \n",
       "4         Adam Lambert  Logged In     Kevin      M              4  Arellano   \n",
       "\n",
       "      length level                 location method      page  registration  \\\n",
       "0  215.11791  free  Harrisburg-Carlisle, PA    PUT  NextSong  1.540007e+12   \n",
       "1  204.74730  free  Harrisburg-Carlisle, PA    PUT  NextSong  1.540007e+12   \n",
       "2  172.01587  free  Harrisburg-Carlisle, PA    PUT  NextSong  1.540007e+12   \n",
       "3  209.52771  free  Harrisburg-Carlisle, PA    PUT  NextSong  1.540007e+12   \n",
       "4  266.44853  free  Harrisburg-Carlisle, PA    PUT  NextSong  1.540007e+12   \n",
       "\n",
       "   sessionId                       song  status             ts  \\\n",
       "0        815           Your Rocky Spine     200  1542931645796   \n",
       "1        815                    Va Bien     200  1542931860796   \n",
       "2        815  Eleanor Put Your Boots On     200  1542932064796   \n",
       "3        815                   Float On     200  1542932236796   \n",
       "4        815                  Aftermath     200  1542932445796   \n",
       "\n",
       "                                           userAgent userId  \n",
       "0  \"Mozilla/5.0 (Macintosh; Intel Mac OS X 10_9_4...     66  \n",
       "1  \"Mozilla/5.0 (Macintosh; Intel Mac OS X 10_9_4...     66  \n",
       "2  \"Mozilla/5.0 (Macintosh; Intel Mac OS X 10_9_4...     66  \n",
       "3  \"Mozilla/5.0 (Macintosh; Intel Mac OS X 10_9_4...     66  \n",
       "4  \"Mozilla/5.0 (Macintosh; Intel Mac OS X 10_9_4...     66  "
      ]
     },
     "execution_count": 18,
     "metadata": {},
     "output_type": "execute_result"
    }
   ],
   "source": [
    "df = pd.read_json(filepath, lines=True, orient='columns')\n",
    "df.head()"
   ]
  },
  {
   "cell_type": "markdown",
   "metadata": {},
   "source": [
    "## #3: `time` Table\n",
    "#### Extract Data for Time Table\n",
    "- Filter records by `NextSong` action\n",
    "- Convert the `ts` timestamp column to datetime\n",
    "  - Hint: the current timestamp is in milliseconds\n",
    "- Extract the timestamp, hour, day, week of year, month, year, and weekday from the `ts` column and set `time_data` to a list containing these values in order\n",
    "  - Hint: use pandas' [`dt` attribute](https://pandas.pydata.org/pandas-docs/stable/reference/api/pandas.Series.dt.html) to access easily datetimelike properties.\n",
    "- Specify labels for these columns and set to `column_labels`\n",
    "- Create a dataframe, `time_df,` containing the time data for this file by combining `column_labels` and `time_data` into a dictionary and converting this into a dataframe"
   ]
  },
  {
   "cell_type": "code",
   "execution_count": 19,
   "metadata": {},
   "outputs": [
    {
     "data": {
      "text/html": [
       "<div>\n",
       "<style scoped>\n",
       "    .dataframe tbody tr th:only-of-type {\n",
       "        vertical-align: middle;\n",
       "    }\n",
       "\n",
       "    .dataframe tbody tr th {\n",
       "        vertical-align: top;\n",
       "    }\n",
       "\n",
       "    .dataframe thead th {\n",
       "        text-align: right;\n",
       "    }\n",
       "</style>\n",
       "<table border=\"1\" class=\"dataframe\">\n",
       "  <thead>\n",
       "    <tr style=\"text-align: right;\">\n",
       "      <th></th>\n",
       "      <th>artist</th>\n",
       "      <th>auth</th>\n",
       "      <th>firstName</th>\n",
       "      <th>gender</th>\n",
       "      <th>itemInSession</th>\n",
       "      <th>lastName</th>\n",
       "      <th>length</th>\n",
       "      <th>level</th>\n",
       "      <th>location</th>\n",
       "      <th>method</th>\n",
       "      <th>page</th>\n",
       "      <th>registration</th>\n",
       "      <th>sessionId</th>\n",
       "      <th>song</th>\n",
       "      <th>status</th>\n",
       "      <th>ts</th>\n",
       "      <th>userAgent</th>\n",
       "      <th>userId</th>\n",
       "    </tr>\n",
       "  </thead>\n",
       "  <tbody>\n",
       "    <tr>\n",
       "      <th>0</th>\n",
       "      <td>Great Lake Swimmers</td>\n",
       "      <td>Logged In</td>\n",
       "      <td>Kevin</td>\n",
       "      <td>M</td>\n",
       "      <td>0</td>\n",
       "      <td>Arellano</td>\n",
       "      <td>215.11791</td>\n",
       "      <td>free</td>\n",
       "      <td>Harrisburg-Carlisle, PA</td>\n",
       "      <td>PUT</td>\n",
       "      <td>NextSong</td>\n",
       "      <td>1.540007e+12</td>\n",
       "      <td>815</td>\n",
       "      <td>Your Rocky Spine</td>\n",
       "      <td>200</td>\n",
       "      <td>1542931645796</td>\n",
       "      <td>\"Mozilla/5.0 (Macintosh; Intel Mac OS X 10_9_4...</td>\n",
       "      <td>66</td>\n",
       "    </tr>\n",
       "    <tr>\n",
       "      <th>1</th>\n",
       "      <td>Soziedad Alkoholika</td>\n",
       "      <td>Logged In</td>\n",
       "      <td>Kevin</td>\n",
       "      <td>M</td>\n",
       "      <td>1</td>\n",
       "      <td>Arellano</td>\n",
       "      <td>204.74730</td>\n",
       "      <td>free</td>\n",
       "      <td>Harrisburg-Carlisle, PA</td>\n",
       "      <td>PUT</td>\n",
       "      <td>NextSong</td>\n",
       "      <td>1.540007e+12</td>\n",
       "      <td>815</td>\n",
       "      <td>Va Bien</td>\n",
       "      <td>200</td>\n",
       "      <td>1542931860796</td>\n",
       "      <td>\"Mozilla/5.0 (Macintosh; Intel Mac OS X 10_9_4...</td>\n",
       "      <td>66</td>\n",
       "    </tr>\n",
       "    <tr>\n",
       "      <th>2</th>\n",
       "      <td>Franz Ferdinand</td>\n",
       "      <td>Logged In</td>\n",
       "      <td>Kevin</td>\n",
       "      <td>M</td>\n",
       "      <td>2</td>\n",
       "      <td>Arellano</td>\n",
       "      <td>172.01587</td>\n",
       "      <td>free</td>\n",
       "      <td>Harrisburg-Carlisle, PA</td>\n",
       "      <td>PUT</td>\n",
       "      <td>NextSong</td>\n",
       "      <td>1.540007e+12</td>\n",
       "      <td>815</td>\n",
       "      <td>Eleanor Put Your Boots On</td>\n",
       "      <td>200</td>\n",
       "      <td>1542932064796</td>\n",
       "      <td>\"Mozilla/5.0 (Macintosh; Intel Mac OS X 10_9_4...</td>\n",
       "      <td>66</td>\n",
       "    </tr>\n",
       "    <tr>\n",
       "      <th>3</th>\n",
       "      <td>Modest Mouse</td>\n",
       "      <td>Logged In</td>\n",
       "      <td>Kevin</td>\n",
       "      <td>M</td>\n",
       "      <td>3</td>\n",
       "      <td>Arellano</td>\n",
       "      <td>209.52771</td>\n",
       "      <td>free</td>\n",
       "      <td>Harrisburg-Carlisle, PA</td>\n",
       "      <td>PUT</td>\n",
       "      <td>NextSong</td>\n",
       "      <td>1.540007e+12</td>\n",
       "      <td>815</td>\n",
       "      <td>Float On</td>\n",
       "      <td>200</td>\n",
       "      <td>1542932236796</td>\n",
       "      <td>\"Mozilla/5.0 (Macintosh; Intel Mac OS X 10_9_4...</td>\n",
       "      <td>66</td>\n",
       "    </tr>\n",
       "    <tr>\n",
       "      <th>4</th>\n",
       "      <td>Adam Lambert</td>\n",
       "      <td>Logged In</td>\n",
       "      <td>Kevin</td>\n",
       "      <td>M</td>\n",
       "      <td>4</td>\n",
       "      <td>Arellano</td>\n",
       "      <td>266.44853</td>\n",
       "      <td>free</td>\n",
       "      <td>Harrisburg-Carlisle, PA</td>\n",
       "      <td>PUT</td>\n",
       "      <td>NextSong</td>\n",
       "      <td>1.540007e+12</td>\n",
       "      <td>815</td>\n",
       "      <td>Aftermath</td>\n",
       "      <td>200</td>\n",
       "      <td>1542932445796</td>\n",
       "      <td>\"Mozilla/5.0 (Macintosh; Intel Mac OS X 10_9_4...</td>\n",
       "      <td>66</td>\n",
       "    </tr>\n",
       "  </tbody>\n",
       "</table>\n",
       "</div>"
      ],
      "text/plain": [
       "                artist       auth firstName gender  itemInSession  lastName  \\\n",
       "0  Great Lake Swimmers  Logged In     Kevin      M              0  Arellano   \n",
       "1  Soziedad Alkoholika  Logged In     Kevin      M              1  Arellano   \n",
       "2      Franz Ferdinand  Logged In     Kevin      M              2  Arellano   \n",
       "3         Modest Mouse  Logged In     Kevin      M              3  Arellano   \n",
       "4         Adam Lambert  Logged In     Kevin      M              4  Arellano   \n",
       "\n",
       "      length level                 location method      page  registration  \\\n",
       "0  215.11791  free  Harrisburg-Carlisle, PA    PUT  NextSong  1.540007e+12   \n",
       "1  204.74730  free  Harrisburg-Carlisle, PA    PUT  NextSong  1.540007e+12   \n",
       "2  172.01587  free  Harrisburg-Carlisle, PA    PUT  NextSong  1.540007e+12   \n",
       "3  209.52771  free  Harrisburg-Carlisle, PA    PUT  NextSong  1.540007e+12   \n",
       "4  266.44853  free  Harrisburg-Carlisle, PA    PUT  NextSong  1.540007e+12   \n",
       "\n",
       "   sessionId                       song  status             ts  \\\n",
       "0        815           Your Rocky Spine     200  1542931645796   \n",
       "1        815                    Va Bien     200  1542931860796   \n",
       "2        815  Eleanor Put Your Boots On     200  1542932064796   \n",
       "3        815                   Float On     200  1542932236796   \n",
       "4        815                  Aftermath     200  1542932445796   \n",
       "\n",
       "                                           userAgent userId  \n",
       "0  \"Mozilla/5.0 (Macintosh; Intel Mac OS X 10_9_4...     66  \n",
       "1  \"Mozilla/5.0 (Macintosh; Intel Mac OS X 10_9_4...     66  \n",
       "2  \"Mozilla/5.0 (Macintosh; Intel Mac OS X 10_9_4...     66  \n",
       "3  \"Mozilla/5.0 (Macintosh; Intel Mac OS X 10_9_4...     66  \n",
       "4  \"Mozilla/5.0 (Macintosh; Intel Mac OS X 10_9_4...     66  "
      ]
     },
     "execution_count": 19,
     "metadata": {},
     "output_type": "execute_result"
    }
   ],
   "source": [
    "df = df[df['page']=='NextSong']\n",
    "df.head()"
   ]
  },
  {
   "cell_type": "code",
   "execution_count": 20,
   "metadata": {},
   "outputs": [
    {
     "data": {
      "text/plain": [
       "0   2018-11-23 00:07:25.796\n",
       "1   2018-11-23 00:11:00.796\n",
       "2   2018-11-23 00:14:24.796\n",
       "3   2018-11-23 00:17:16.796\n",
       "4   2018-11-23 00:20:45.796\n",
       "Name: ts, dtype: datetime64[ns]"
      ]
     },
     "execution_count": 20,
     "metadata": {},
     "output_type": "execute_result"
    }
   ],
   "source": [
    "t = pd.to_datetime(df['ts'], unit='ms')\n",
    "t.head()"
   ]
  },
  {
   "cell_type": "code",
   "execution_count": 21,
   "metadata": {},
   "outputs": [],
   "source": [
    "time_data = list(zip(t.dt.strftime('%Y-%m-%d %I:%M:%S'), t.dt.hour, t.dt.day, t.dt.week, t.dt.month, t.dt.year, t.dt.weekday))\n",
    "column_labels = ('start_time', 'hour', 'day', 'week', 'month', 'year', 'weekday')"
   ]
  },
  {
   "cell_type": "code",
   "execution_count": 22,
   "metadata": {},
   "outputs": [
    {
     "name": "stdout",
     "output_type": "stream",
     "text": [
      "['2018-11-23 12:07:25', 0, 23, 47, 11, 2018, 4]\n",
      "['2018-11-23 12:11:00', 0, 23, 47, 11, 2018, 4]\n",
      "['2018-11-23 12:14:24', 0, 23, 47, 11, 2018, 4]\n",
      "['2018-11-23 12:17:16', 0, 23, 47, 11, 2018, 4]\n",
      "['2018-11-23 12:20:45', 0, 23, 47, 11, 2018, 4]\n",
      "['2018-11-23 12:25:11', 0, 23, 47, 11, 2018, 4]\n",
      "['2018-11-23 12:29:30', 0, 23, 47, 11, 2018, 4]\n",
      "['2018-11-23 12:33:55', 0, 23, 47, 11, 2018, 4]\n",
      "['2018-11-23 12:38:05', 0, 23, 47, 11, 2018, 4]\n",
      "['2018-11-23 12:42:32', 0, 23, 47, 11, 2018, 4]\n",
      "['2018-11-23 12:45:07', 0, 23, 47, 11, 2018, 4]\n",
      "['2018-11-23 12:49:02', 0, 23, 47, 11, 2018, 4]\n",
      "['2018-11-23 01:34:56', 1, 23, 47, 11, 2018, 4]\n",
      "['2018-11-23 01:39:24', 1, 23, 47, 11, 2018, 4]\n",
      "['2018-11-23 02:35:36', 2, 23, 47, 11, 2018, 4]\n",
      "['2018-11-23 02:39:36', 2, 23, 47, 11, 2018, 4]\n",
      "['2018-11-23 03:48:24', 3, 23, 47, 11, 2018, 4]\n",
      "['2018-11-23 03:52:36', 3, 23, 47, 11, 2018, 4]\n",
      "['2018-11-23 03:57:58', 3, 23, 47, 11, 2018, 4]\n",
      "['2018-11-23 04:01:13', 4, 23, 47, 11, 2018, 4]\n",
      "['2018-11-23 04:04:51', 4, 23, 47, 11, 2018, 4]\n",
      "['2018-11-23 04:06:21', 4, 23, 47, 11, 2018, 4]\n",
      "['2018-11-23 04:09:56', 4, 23, 47, 11, 2018, 4]\n",
      "['2018-11-23 05:56:58', 5, 23, 47, 11, 2018, 4]\n",
      "['2018-11-23 06:03:11', 6, 23, 47, 11, 2018, 4]\n",
      "['2018-11-23 06:07:58', 6, 23, 47, 11, 2018, 4]\n",
      "['2018-11-23 06:09:06', 6, 23, 47, 11, 2018, 4]\n",
      "['2018-11-23 06:11:42', 6, 23, 47, 11, 2018, 4]\n",
      "['2018-11-23 06:15:22', 6, 23, 47, 11, 2018, 4]\n",
      "['2018-11-23 06:28:16', 6, 23, 47, 11, 2018, 4]\n",
      "['2018-11-23 07:05:36', 7, 23, 47, 11, 2018, 4]\n",
      "['2018-11-23 07:34:02', 7, 23, 47, 11, 2018, 4]\n",
      "['2018-11-23 07:50:40', 7, 23, 47, 11, 2018, 4]\n",
      "['2018-11-23 07:51:37', 7, 23, 47, 11, 2018, 4]\n",
      "['2018-11-23 07:53:57', 7, 23, 47, 11, 2018, 4]\n",
      "['2018-11-23 07:55:00', 7, 23, 47, 11, 2018, 4]\n",
      "['2018-11-23 10:39:09', 10, 23, 47, 11, 2018, 4]\n",
      "['2018-11-23 10:43:47', 10, 23, 47, 11, 2018, 4]\n",
      "['2018-11-23 10:57:19', 10, 23, 47, 11, 2018, 4]\n",
      "['2018-11-23 11:02:35', 11, 23, 47, 11, 2018, 4]\n",
      "['2018-11-23 11:04:05', 11, 23, 47, 11, 2018, 4]\n",
      "['2018-11-23 11:13:30', 11, 23, 47, 11, 2018, 4]\n",
      "['2018-11-23 11:14:28', 11, 23, 47, 11, 2018, 4]\n",
      "['2018-11-23 11:17:50', 11, 23, 47, 11, 2018, 4]\n",
      "['2018-11-23 11:22:40', 11, 23, 47, 11, 2018, 4]\n",
      "['2018-11-23 11:26:29', 11, 23, 47, 11, 2018, 4]\n",
      "['2018-11-23 11:32:17', 11, 23, 47, 11, 2018, 4]\n",
      "['2018-11-23 11:35:48', 11, 23, 47, 11, 2018, 4]\n",
      "['2018-11-23 11:37:44', 11, 23, 47, 11, 2018, 4]\n",
      "['2018-11-23 11:39:45', 11, 23, 47, 11, 2018, 4]\n",
      "['2018-11-23 11:42:52', 11, 23, 47, 11, 2018, 4]\n",
      "['2018-11-23 11:43:31', 11, 23, 47, 11, 2018, 4]\n",
      "['2018-11-23 11:47:14', 11, 23, 47, 11, 2018, 4]\n",
      "['2018-11-23 11:50:36', 11, 23, 47, 11, 2018, 4]\n",
      "['2018-11-23 11:52:40', 11, 23, 47, 11, 2018, 4]\n",
      "['2018-11-23 11:54:21', 11, 23, 47, 11, 2018, 4]\n",
      "['2018-11-23 11:59:10', 11, 23, 47, 11, 2018, 4]\n",
      "['2018-11-23 12:01:25', 12, 23, 47, 11, 2018, 4]\n",
      "['2018-11-23 12:02:53', 12, 23, 47, 11, 2018, 4]\n",
      "['2018-11-23 12:05:04', 12, 23, 47, 11, 2018, 4]\n",
      "['2018-11-23 12:07:58', 12, 23, 47, 11, 2018, 4]\n",
      "['2018-11-23 12:08:33', 12, 23, 47, 11, 2018, 4]\n",
      "['2018-11-23 12:11:58', 12, 23, 47, 11, 2018, 4]\n",
      "['2018-11-23 12:12:48', 12, 23, 47, 11, 2018, 4]\n",
      "['2018-11-23 12:15:42', 12, 23, 47, 11, 2018, 4]\n",
      "['2018-11-23 12:17:20', 12, 23, 47, 11, 2018, 4]\n",
      "['2018-11-23 12:21:09', 12, 23, 47, 11, 2018, 4]\n",
      "['2018-11-23 12:23:40', 12, 23, 47, 11, 2018, 4]\n",
      "['2018-11-23 12:28:13', 12, 23, 47, 11, 2018, 4]\n",
      "['2018-11-23 12:30:30', 12, 23, 47, 11, 2018, 4]\n",
      "['2018-11-23 12:33:54', 12, 23, 47, 11, 2018, 4]\n",
      "['2018-11-23 12:34:55', 12, 23, 47, 11, 2018, 4]\n",
      "['2018-11-23 12:37:42', 12, 23, 47, 11, 2018, 4]\n",
      "['2018-11-23 12:38:30', 12, 23, 47, 11, 2018, 4]\n",
      "['2018-11-23 12:42:12', 12, 23, 47, 11, 2018, 4]\n",
      "['2018-11-23 12:42:26', 12, 23, 47, 11, 2018, 4]\n",
      "['2018-11-23 12:46:07', 12, 23, 47, 11, 2018, 4]\n",
      "['2018-11-23 12:46:24', 12, 23, 47, 11, 2018, 4]\n",
      "['2018-11-23 12:50:21', 12, 23, 47, 11, 2018, 4]\n",
      "['2018-11-23 12:50:45', 12, 23, 47, 11, 2018, 4]\n",
      "['2018-11-23 12:51:36', 12, 23, 47, 11, 2018, 4]\n",
      "['2018-11-23 12:52:33', 12, 23, 47, 11, 2018, 4]\n",
      "['2018-11-23 12:54:29', 12, 23, 47, 11, 2018, 4]\n",
      "['2018-11-23 12:54:50', 12, 23, 47, 11, 2018, 4]\n",
      "['2018-11-23 12:58:04', 12, 23, 47, 11, 2018, 4]\n",
      "['2018-11-23 01:04:00', 13, 23, 47, 11, 2018, 4]\n",
      "['2018-11-23 02:25:06', 14, 23, 47, 11, 2018, 4]\n",
      "['2018-11-23 02:27:50', 14, 23, 47, 11, 2018, 4]\n",
      "['2018-11-23 02:38:54', 14, 23, 47, 11, 2018, 4]\n",
      "['2018-11-23 02:41:51', 14, 23, 47, 11, 2018, 4]\n",
      "['2018-11-23 02:41:51', 14, 23, 47, 11, 2018, 4]\n",
      "['2018-11-23 02:45:52', 14, 23, 47, 11, 2018, 4]\n",
      "['2018-11-23 02:47:49', 14, 23, 47, 11, 2018, 4]\n",
      "['2018-11-23 02:50:26', 14, 23, 47, 11, 2018, 4]\n",
      "['2018-11-23 02:53:55', 14, 23, 47, 11, 2018, 4]\n",
      "['2018-11-23 03:00:59', 15, 23, 47, 11, 2018, 4]\n",
      "['2018-11-23 03:03:03', 15, 23, 47, 11, 2018, 4]\n",
      "['2018-11-23 03:04:41', 15, 23, 47, 11, 2018, 4]\n",
      "['2018-11-23 03:08:53', 15, 23, 47, 11, 2018, 4]\n",
      "['2018-11-23 03:12:16', 15, 23, 47, 11, 2018, 4]\n",
      "['2018-11-23 03:15:13', 15, 23, 47, 11, 2018, 4]\n",
      "['2018-11-23 03:17:23', 15, 23, 47, 11, 2018, 4]\n",
      "['2018-11-23 03:17:30', 15, 23, 47, 11, 2018, 4]\n",
      "['2018-11-23 03:21:17', 15, 23, 47, 11, 2018, 4]\n",
      "['2018-11-23 03:21:21', 15, 23, 47, 11, 2018, 4]\n",
      "['2018-11-23 03:27:46', 15, 23, 47, 11, 2018, 4]\n",
      "['2018-11-23 03:28:12', 15, 23, 47, 11, 2018, 4]\n",
      "['2018-11-23 03:29:23', 15, 23, 47, 11, 2018, 4]\n",
      "['2018-11-23 03:29:46', 15, 23, 47, 11, 2018, 4]\n",
      "['2018-11-23 03:30:49', 15, 23, 47, 11, 2018, 4]\n",
      "['2018-11-23 03:31:37', 15, 23, 47, 11, 2018, 4]\n",
      "['2018-11-23 03:33:10', 15, 23, 47, 11, 2018, 4]\n",
      "['2018-11-23 03:33:24', 15, 23, 47, 11, 2018, 4]\n",
      "['2018-11-23 03:37:12', 15, 23, 47, 11, 2018, 4]\n",
      "['2018-11-23 03:41:18', 15, 23, 47, 11, 2018, 4]\n",
      "['2018-11-23 03:44:29', 15, 23, 47, 11, 2018, 4]\n",
      "['2018-11-23 03:45:35', 15, 23, 47, 11, 2018, 4]\n",
      "['2018-11-23 03:48:19', 15, 23, 47, 11, 2018, 4]\n",
      "['2018-11-23 03:49:00', 15, 23, 47, 11, 2018, 4]\n",
      "['2018-11-23 03:52:34', 15, 23, 47, 11, 2018, 4]\n",
      "['2018-11-23 03:52:40', 15, 23, 47, 11, 2018, 4]\n",
      "['2018-11-23 03:53:50', 15, 23, 47, 11, 2018, 4]\n",
      "['2018-11-23 03:54:24', 15, 23, 47, 11, 2018, 4]\n",
      "['2018-11-23 03:56:47', 15, 23, 47, 11, 2018, 4]\n",
      "['2018-11-23 03:57:30', 15, 23, 47, 11, 2018, 4]\n",
      "['2018-11-23 03:58:44', 15, 23, 47, 11, 2018, 4]\n",
      "['2018-11-23 04:00:53', 16, 23, 47, 11, 2018, 4]\n",
      "['2018-11-23 04:00:58', 16, 23, 47, 11, 2018, 4]\n",
      "['2018-11-23 04:00:59', 16, 23, 47, 11, 2018, 4]\n",
      "['2018-11-23 04:01:07', 16, 23, 47, 11, 2018, 4]\n",
      "['2018-11-23 04:04:35', 16, 23, 47, 11, 2018, 4]\n",
      "['2018-11-23 04:05:27', 16, 23, 47, 11, 2018, 4]\n",
      "['2018-11-23 04:07:13', 16, 23, 47, 11, 2018, 4]\n",
      "['2018-11-23 04:08:14', 16, 23, 47, 11, 2018, 4]\n",
      "['2018-11-23 04:09:22', 16, 23, 47, 11, 2018, 4]\n",
      "['2018-11-23 04:13:08', 16, 23, 47, 11, 2018, 4]\n",
      "['2018-11-23 04:13:10', 16, 23, 47, 11, 2018, 4]\n",
      "['2018-11-23 04:16:50', 16, 23, 47, 11, 2018, 4]\n",
      "['2018-11-23 04:16:52', 16, 23, 47, 11, 2018, 4]\n",
      "['2018-11-23 04:17:10', 16, 23, 47, 11, 2018, 4]\n",
      "['2018-11-23 04:20:21', 16, 23, 47, 11, 2018, 4]\n",
      "['2018-11-23 04:20:52', 16, 23, 47, 11, 2018, 4]\n",
      "['2018-11-23 04:21:51', 16, 23, 47, 11, 2018, 4]\n",
      "['2018-11-23 04:22:57', 16, 23, 47, 11, 2018, 4]\n",
      "['2018-11-23 04:24:22', 16, 23, 47, 11, 2018, 4]\n",
      "['2018-11-23 04:25:39', 16, 23, 47, 11, 2018, 4]\n",
      "['2018-11-23 04:26:02', 16, 23, 47, 11, 2018, 4]\n",
      "['2018-11-23 04:26:29', 16, 23, 47, 11, 2018, 4]\n",
      "['2018-11-23 04:29:37', 16, 23, 47, 11, 2018, 4]\n",
      "['2018-11-23 04:30:20', 16, 23, 47, 11, 2018, 4]\n",
      "['2018-11-23 04:30:59', 16, 23, 47, 11, 2018, 4]\n",
      "['2018-11-23 04:32:34', 16, 23, 47, 11, 2018, 4]\n",
      "['2018-11-23 04:33:03', 16, 23, 47, 11, 2018, 4]\n",
      "['2018-11-23 04:34:48', 16, 23, 47, 11, 2018, 4]\n",
      "['2018-11-23 04:35:35', 16, 23, 47, 11, 2018, 4]\n",
      "['2018-11-23 04:36:59', 16, 23, 47, 11, 2018, 4]\n",
      "['2018-11-23 04:38:06', 16, 23, 47, 11, 2018, 4]\n",
      "['2018-11-23 04:41:23', 16, 23, 47, 11, 2018, 4]\n",
      "['2018-11-23 04:42:35', 16, 23, 47, 11, 2018, 4]\n",
      "['2018-11-23 04:44:59', 16, 23, 47, 11, 2018, 4]\n",
      "['2018-11-23 04:45:50', 16, 23, 47, 11, 2018, 4]\n",
      "['2018-11-23 04:48:25', 16, 23, 47, 11, 2018, 4]\n",
      "['2018-11-23 04:50:31', 16, 23, 47, 11, 2018, 4]\n",
      "['2018-11-23 04:50:45', 16, 23, 47, 11, 2018, 4]\n",
      "['2018-11-23 04:54:33', 16, 23, 47, 11, 2018, 4]\n",
      "['2018-11-23 04:55:04', 16, 23, 47, 11, 2018, 4]\n",
      "['2018-11-23 04:58:57', 16, 23, 47, 11, 2018, 4]\n",
      "['2018-11-23 04:59:02', 16, 23, 47, 11, 2018, 4]\n",
      "['2018-11-23 05:00:55', 17, 23, 47, 11, 2018, 4]\n",
      "['2018-11-23 05:01:40', 17, 23, 47, 11, 2018, 4]\n",
      "['2018-11-23 05:05:07', 17, 23, 47, 11, 2018, 4]\n",
      "['2018-11-23 05:08:27', 17, 23, 47, 11, 2018, 4]\n",
      "['2018-11-23 05:08:37', 17, 23, 47, 11, 2018, 4]\n",
      "['2018-11-23 05:09:57', 17, 23, 47, 11, 2018, 4]\n",
      "['2018-11-23 05:13:12', 17, 23, 47, 11, 2018, 4]\n",
      "['2018-11-23 05:13:32', 17, 23, 47, 11, 2018, 4]\n",
      "['2018-11-23 05:14:10', 17, 23, 47, 11, 2018, 4]\n",
      "['2018-11-23 05:15:10', 17, 23, 47, 11, 2018, 4]\n",
      "['2018-11-23 05:16:57', 17, 23, 47, 11, 2018, 4]\n",
      "['2018-11-23 05:19:26', 17, 23, 47, 11, 2018, 4]\n",
      "['2018-11-23 05:23:43', 17, 23, 47, 11, 2018, 4]\n",
      "['2018-11-23 05:25:11', 17, 23, 47, 11, 2018, 4]\n",
      "['2018-11-23 05:29:09', 17, 23, 47, 11, 2018, 4]\n",
      "['2018-11-23 05:30:05', 17, 23, 47, 11, 2018, 4]\n",
      "['2018-11-23 05:33:00', 17, 23, 47, 11, 2018, 4]\n",
      "['2018-11-23 05:33:33', 17, 23, 47, 11, 2018, 4]\n",
      "['2018-11-23 05:37:14', 17, 23, 47, 11, 2018, 4]\n",
      "['2018-11-23 05:38:06', 17, 23, 47, 11, 2018, 4]\n",
      "['2018-11-23 05:40:02', 17, 23, 47, 11, 2018, 4]\n",
      "['2018-11-23 05:42:29', 17, 23, 47, 11, 2018, 4]\n",
      "['2018-11-23 05:42:35', 17, 23, 47, 11, 2018, 4]\n",
      "['2018-11-23 05:47:19', 17, 23, 47, 11, 2018, 4]\n",
      "['2018-11-23 05:47:21', 17, 23, 47, 11, 2018, 4]\n",
      "['2018-11-23 05:50:28', 17, 23, 47, 11, 2018, 4]\n",
      "['2018-11-23 05:51:33', 17, 23, 47, 11, 2018, 4]\n",
      "['2018-11-23 05:55:18', 17, 23, 47, 11, 2018, 4]\n",
      "['2018-11-23 05:58:48', 17, 23, 47, 11, 2018, 4]\n",
      "['2018-11-23 06:03:13', 18, 23, 47, 11, 2018, 4]\n",
      "['2018-11-23 06:11:01', 18, 23, 47, 11, 2018, 4]\n",
      "['2018-11-23 06:17:56', 18, 23, 47, 11, 2018, 4]\n",
      "['2018-11-23 06:20:07', 18, 23, 47, 11, 2018, 4]\n",
      "['2018-11-23 06:28:21', 18, 23, 47, 11, 2018, 4]\n",
      "['2018-11-23 07:17:50', 19, 23, 47, 11, 2018, 4]\n",
      "['2018-11-23 07:18:57', 19, 23, 47, 11, 2018, 4]\n",
      "['2018-11-23 07:20:58', 19, 23, 47, 11, 2018, 4]\n",
      "['2018-11-23 07:24:39', 19, 23, 47, 11, 2018, 4]\n",
      "['2018-11-23 07:28:08', 19, 23, 47, 11, 2018, 4]\n",
      "['2018-11-23 07:32:31', 19, 23, 47, 11, 2018, 4]\n",
      "['2018-11-23 07:44:15', 19, 23, 47, 11, 2018, 4]\n",
      "['2018-11-23 07:47:35', 19, 23, 47, 11, 2018, 4]\n",
      "['2018-11-23 07:52:03', 19, 23, 47, 11, 2018, 4]\n",
      "['2018-11-23 07:57:02', 19, 23, 47, 11, 2018, 4]\n",
      "['2018-11-23 08:00:15', 20, 23, 47, 11, 2018, 4]\n",
      "['2018-11-23 08:04:48', 20, 23, 47, 11, 2018, 4]\n",
      "['2018-11-23 08:07:15', 20, 23, 47, 11, 2018, 4]\n",
      "['2018-11-23 08:11:29', 20, 23, 47, 11, 2018, 4]\n",
      "['2018-11-23 08:15:47', 20, 23, 47, 11, 2018, 4]\n",
      "['2018-11-23 08:18:51', 20, 23, 47, 11, 2018, 4]\n",
      "['2018-11-23 08:29:46', 20, 23, 47, 11, 2018, 4]\n",
      "['2018-11-23 08:33:44', 20, 23, 47, 11, 2018, 4]\n",
      "['2018-11-23 08:38:41', 20, 23, 47, 11, 2018, 4]\n",
      "['2018-11-23 08:40:27', 20, 23, 47, 11, 2018, 4]\n",
      "['2018-11-23 08:43:42', 20, 23, 47, 11, 2018, 4]\n",
      "['2018-11-23 08:47:18', 20, 23, 47, 11, 2018, 4]\n",
      "['2018-11-23 08:50:30', 20, 23, 47, 11, 2018, 4]\n",
      "['2018-11-23 08:55:28', 20, 23, 47, 11, 2018, 4]\n",
      "['2018-11-23 08:59:18', 20, 23, 47, 11, 2018, 4]\n",
      "['2018-11-23 09:02:33', 21, 23, 47, 11, 2018, 4]\n",
      "['2018-11-23 09:04:22', 21, 23, 47, 11, 2018, 4]\n",
      "['2018-11-23 09:06:07', 21, 23, 47, 11, 2018, 4]\n",
      "['2018-11-23 09:10:42', 21, 23, 47, 11, 2018, 4]\n",
      "['2018-11-23 09:13:56', 21, 23, 47, 11, 2018, 4]\n",
      "['2018-11-23 09:21:12', 21, 23, 47, 11, 2018, 4]\n",
      "['2018-11-23 09:25:15', 21, 23, 47, 11, 2018, 4]\n",
      "['2018-11-23 09:28:21', 21, 23, 47, 11, 2018, 4]\n",
      "['2018-11-23 09:37:30', 21, 23, 47, 11, 2018, 4]\n",
      "['2018-11-23 09:39:49', 21, 23, 47, 11, 2018, 4]\n",
      "['2018-11-23 09:42:09', 21, 23, 47, 11, 2018, 4]\n",
      "['2018-11-23 11:08:48', 23, 23, 47, 11, 2018, 4]\n"
     ]
    }
   ],
   "source": [
    "time_df = pd.DataFrame(time_data, columns=column_labels)\n",
    "for i, row in time_df.iterrows():\n",
    "    print(list(row))"
   ]
  },
  {
   "cell_type": "code",
   "execution_count": 23,
   "metadata": {},
   "outputs": [
    {
     "data": {
      "text/html": [
       "<div>\n",
       "<style scoped>\n",
       "    .dataframe tbody tr th:only-of-type {\n",
       "        vertical-align: middle;\n",
       "    }\n",
       "\n",
       "    .dataframe tbody tr th {\n",
       "        vertical-align: top;\n",
       "    }\n",
       "\n",
       "    .dataframe thead th {\n",
       "        text-align: right;\n",
       "    }\n",
       "</style>\n",
       "<table border=\"1\" class=\"dataframe\">\n",
       "  <thead>\n",
       "    <tr style=\"text-align: right;\">\n",
       "      <th></th>\n",
       "      <th>start_time</th>\n",
       "      <th>hour</th>\n",
       "      <th>day</th>\n",
       "      <th>week</th>\n",
       "      <th>month</th>\n",
       "      <th>year</th>\n",
       "      <th>weekday</th>\n",
       "    </tr>\n",
       "  </thead>\n",
       "  <tbody>\n",
       "    <tr>\n",
       "      <th>0</th>\n",
       "      <td>2018-11-23 12:07:25</td>\n",
       "      <td>0</td>\n",
       "      <td>23</td>\n",
       "      <td>47</td>\n",
       "      <td>11</td>\n",
       "      <td>2018</td>\n",
       "      <td>4</td>\n",
       "    </tr>\n",
       "    <tr>\n",
       "      <th>1</th>\n",
       "      <td>2018-11-23 12:11:00</td>\n",
       "      <td>0</td>\n",
       "      <td>23</td>\n",
       "      <td>47</td>\n",
       "      <td>11</td>\n",
       "      <td>2018</td>\n",
       "      <td>4</td>\n",
       "    </tr>\n",
       "    <tr>\n",
       "      <th>2</th>\n",
       "      <td>2018-11-23 12:14:24</td>\n",
       "      <td>0</td>\n",
       "      <td>23</td>\n",
       "      <td>47</td>\n",
       "      <td>11</td>\n",
       "      <td>2018</td>\n",
       "      <td>4</td>\n",
       "    </tr>\n",
       "    <tr>\n",
       "      <th>3</th>\n",
       "      <td>2018-11-23 12:17:16</td>\n",
       "      <td>0</td>\n",
       "      <td>23</td>\n",
       "      <td>47</td>\n",
       "      <td>11</td>\n",
       "      <td>2018</td>\n",
       "      <td>4</td>\n",
       "    </tr>\n",
       "    <tr>\n",
       "      <th>4</th>\n",
       "      <td>2018-11-23 12:20:45</td>\n",
       "      <td>0</td>\n",
       "      <td>23</td>\n",
       "      <td>47</td>\n",
       "      <td>11</td>\n",
       "      <td>2018</td>\n",
       "      <td>4</td>\n",
       "    </tr>\n",
       "    <tr>\n",
       "      <th>5</th>\n",
       "      <td>2018-11-23 12:25:11</td>\n",
       "      <td>0</td>\n",
       "      <td>23</td>\n",
       "      <td>47</td>\n",
       "      <td>11</td>\n",
       "      <td>2018</td>\n",
       "      <td>4</td>\n",
       "    </tr>\n",
       "    <tr>\n",
       "      <th>6</th>\n",
       "      <td>2018-11-23 12:29:30</td>\n",
       "      <td>0</td>\n",
       "      <td>23</td>\n",
       "      <td>47</td>\n",
       "      <td>11</td>\n",
       "      <td>2018</td>\n",
       "      <td>4</td>\n",
       "    </tr>\n",
       "    <tr>\n",
       "      <th>7</th>\n",
       "      <td>2018-11-23 12:33:55</td>\n",
       "      <td>0</td>\n",
       "      <td>23</td>\n",
       "      <td>47</td>\n",
       "      <td>11</td>\n",
       "      <td>2018</td>\n",
       "      <td>4</td>\n",
       "    </tr>\n",
       "    <tr>\n",
       "      <th>8</th>\n",
       "      <td>2018-11-23 12:38:05</td>\n",
       "      <td>0</td>\n",
       "      <td>23</td>\n",
       "      <td>47</td>\n",
       "      <td>11</td>\n",
       "      <td>2018</td>\n",
       "      <td>4</td>\n",
       "    </tr>\n",
       "    <tr>\n",
       "      <th>9</th>\n",
       "      <td>2018-11-23 12:42:32</td>\n",
       "      <td>0</td>\n",
       "      <td>23</td>\n",
       "      <td>47</td>\n",
       "      <td>11</td>\n",
       "      <td>2018</td>\n",
       "      <td>4</td>\n",
       "    </tr>\n",
       "    <tr>\n",
       "      <th>10</th>\n",
       "      <td>2018-11-23 12:45:07</td>\n",
       "      <td>0</td>\n",
       "      <td>23</td>\n",
       "      <td>47</td>\n",
       "      <td>11</td>\n",
       "      <td>2018</td>\n",
       "      <td>4</td>\n",
       "    </tr>\n",
       "    <tr>\n",
       "      <th>11</th>\n",
       "      <td>2018-11-23 12:49:02</td>\n",
       "      <td>0</td>\n",
       "      <td>23</td>\n",
       "      <td>47</td>\n",
       "      <td>11</td>\n",
       "      <td>2018</td>\n",
       "      <td>4</td>\n",
       "    </tr>\n",
       "    <tr>\n",
       "      <th>12</th>\n",
       "      <td>2018-11-23 01:34:56</td>\n",
       "      <td>1</td>\n",
       "      <td>23</td>\n",
       "      <td>47</td>\n",
       "      <td>11</td>\n",
       "      <td>2018</td>\n",
       "      <td>4</td>\n",
       "    </tr>\n",
       "    <tr>\n",
       "      <th>13</th>\n",
       "      <td>2018-11-23 01:39:24</td>\n",
       "      <td>1</td>\n",
       "      <td>23</td>\n",
       "      <td>47</td>\n",
       "      <td>11</td>\n",
       "      <td>2018</td>\n",
       "      <td>4</td>\n",
       "    </tr>\n",
       "    <tr>\n",
       "      <th>14</th>\n",
       "      <td>2018-11-23 02:35:36</td>\n",
       "      <td>2</td>\n",
       "      <td>23</td>\n",
       "      <td>47</td>\n",
       "      <td>11</td>\n",
       "      <td>2018</td>\n",
       "      <td>4</td>\n",
       "    </tr>\n",
       "  </tbody>\n",
       "</table>\n",
       "</div>"
      ],
      "text/plain": [
       "             start_time  hour  day  week  month  year  weekday\n",
       "0   2018-11-23 12:07:25     0   23    47     11  2018        4\n",
       "1   2018-11-23 12:11:00     0   23    47     11  2018        4\n",
       "2   2018-11-23 12:14:24     0   23    47     11  2018        4\n",
       "3   2018-11-23 12:17:16     0   23    47     11  2018        4\n",
       "4   2018-11-23 12:20:45     0   23    47     11  2018        4\n",
       "5   2018-11-23 12:25:11     0   23    47     11  2018        4\n",
       "6   2018-11-23 12:29:30     0   23    47     11  2018        4\n",
       "7   2018-11-23 12:33:55     0   23    47     11  2018        4\n",
       "8   2018-11-23 12:38:05     0   23    47     11  2018        4\n",
       "9   2018-11-23 12:42:32     0   23    47     11  2018        4\n",
       "10  2018-11-23 12:45:07     0   23    47     11  2018        4\n",
       "11  2018-11-23 12:49:02     0   23    47     11  2018        4\n",
       "12  2018-11-23 01:34:56     1   23    47     11  2018        4\n",
       "13  2018-11-23 01:39:24     1   23    47     11  2018        4\n",
       "14  2018-11-23 02:35:36     2   23    47     11  2018        4"
      ]
     },
     "execution_count": 23,
     "metadata": {},
     "output_type": "execute_result"
    }
   ],
   "source": [
    "time_df.head(15)"
   ]
  },
  {
   "cell_type": "markdown",
   "metadata": {},
   "source": [
    "#### Insert Records into Time Table\n",
    "Implement the `time_table_insert` query in `sql_queries.py` and run the cell below to insert records for the timestamps in this log file into the `time` table. Remember to run `create_tables.py` before running the cell below to ensure you've created/resetted the `time` table in the sparkify database."
   ]
  },
  {
   "cell_type": "code",
   "execution_count": 24,
   "metadata": {},
   "outputs": [],
   "source": [
    "for i, row in time_df.iterrows():\n",
    "    cur.execute(time_table_insert, list(row))\n",
    "    conn.commit()"
   ]
  },
  {
   "cell_type": "markdown",
   "metadata": {},
   "source": [
    "Run test.ipynb to see if you've successfully added records to this table."
   ]
  },
  {
   "cell_type": "markdown",
   "metadata": {},
   "source": [
    "## #4: `users` Table\n",
    "#### Extract Data for Users Table\n",
    "- Select columns for user ID, first name, last name, gender and level and set to `user_df`"
   ]
  },
  {
   "cell_type": "code",
   "execution_count": 25,
   "metadata": {},
   "outputs": [
    {
     "data": {
      "text/plain": [
       "Index(['artist', 'auth', 'firstName', 'gender', 'itemInSession', 'lastName',\n",
       "       'length', 'level', 'location', 'method', 'page', 'registration',\n",
       "       'sessionId', 'song', 'status', 'ts', 'userAgent', 'userId'],\n",
       "      dtype='object')"
      ]
     },
     "execution_count": 25,
     "metadata": {},
     "output_type": "execute_result"
    }
   ],
   "source": [
    "df.keys()"
   ]
  },
  {
   "cell_type": "code",
   "execution_count": 26,
   "metadata": {},
   "outputs": [
    {
     "data": {
      "text/html": [
       "<div>\n",
       "<style scoped>\n",
       "    .dataframe tbody tr th:only-of-type {\n",
       "        vertical-align: middle;\n",
       "    }\n",
       "\n",
       "    .dataframe tbody tr th {\n",
       "        vertical-align: top;\n",
       "    }\n",
       "\n",
       "    .dataframe thead th {\n",
       "        text-align: right;\n",
       "    }\n",
       "</style>\n",
       "<table border=\"1\" class=\"dataframe\">\n",
       "  <thead>\n",
       "    <tr style=\"text-align: right;\">\n",
       "      <th></th>\n",
       "      <th>userId</th>\n",
       "      <th>firstName</th>\n",
       "      <th>lastName</th>\n",
       "      <th>gender</th>\n",
       "      <th>level</th>\n",
       "    </tr>\n",
       "  </thead>\n",
       "  <tbody>\n",
       "    <tr>\n",
       "      <th>0</th>\n",
       "      <td>66</td>\n",
       "      <td>Kevin</td>\n",
       "      <td>Arellano</td>\n",
       "      <td>M</td>\n",
       "      <td>free</td>\n",
       "    </tr>\n",
       "    <tr>\n",
       "      <th>1</th>\n",
       "      <td>66</td>\n",
       "      <td>Kevin</td>\n",
       "      <td>Arellano</td>\n",
       "      <td>M</td>\n",
       "      <td>free</td>\n",
       "    </tr>\n",
       "    <tr>\n",
       "      <th>2</th>\n",
       "      <td>66</td>\n",
       "      <td>Kevin</td>\n",
       "      <td>Arellano</td>\n",
       "      <td>M</td>\n",
       "      <td>free</td>\n",
       "    </tr>\n",
       "    <tr>\n",
       "      <th>3</th>\n",
       "      <td>66</td>\n",
       "      <td>Kevin</td>\n",
       "      <td>Arellano</td>\n",
       "      <td>M</td>\n",
       "      <td>free</td>\n",
       "    </tr>\n",
       "    <tr>\n",
       "      <th>4</th>\n",
       "      <td>66</td>\n",
       "      <td>Kevin</td>\n",
       "      <td>Arellano</td>\n",
       "      <td>M</td>\n",
       "      <td>free</td>\n",
       "    </tr>\n",
       "  </tbody>\n",
       "</table>\n",
       "</div>"
      ],
      "text/plain": [
       "  userId firstName  lastName gender level\n",
       "0     66     Kevin  Arellano      M  free\n",
       "1     66     Kevin  Arellano      M  free\n",
       "2     66     Kevin  Arellano      M  free\n",
       "3     66     Kevin  Arellano      M  free\n",
       "4     66     Kevin  Arellano      M  free"
      ]
     },
     "execution_count": 26,
     "metadata": {},
     "output_type": "execute_result"
    }
   ],
   "source": [
    "user_df = df.loc[:,['userId','firstName', 'lastName', 'gender', 'level']]\n",
    "user_df.head()"
   ]
  },
  {
   "cell_type": "markdown",
   "metadata": {},
   "source": [
    "#### Insert Records into Users Table\n",
    "Implement the `user_table_insert` query in `sql_queries.py` and run the cell below to insert records for the users in this log file into the `users` table. Remember to run `create_tables.py` before running the cell below to ensure you've created/resetted the `users` table in the sparkify database."
   ]
  },
  {
   "cell_type": "code",
   "execution_count": 27,
   "metadata": {},
   "outputs": [],
   "source": [
    "for i, row in user_df.iterrows():\n",
    "    cur.execute(user_table_insert, row)\n",
    "    conn.commit()"
   ]
  },
  {
   "cell_type": "markdown",
   "metadata": {},
   "source": [
    "Run `test.ipynb` to see if you've successfully added records to this table."
   ]
  },
  {
   "cell_type": "markdown",
   "metadata": {},
   "source": [
    "## #5: `songplays` Table\n",
    "#### Extract Data and Songplays Table\n",
    "This one is a little more complicated since information from the songs table, artists table, and original log file are all needed for the `songplays` table. Since the log file does not specify an ID for either the song or the artist, you'll need to get the song ID and artist ID by querying the songs and artists tables to find matches based on song title, artist name, and song duration time.\n",
    "- Implement the `song_select` query in `sql_queries.py` to find the song ID and artist ID based on the title, artist name, and duration of a song.\n",
    "- Select the timestamp, user ID, level, song ID, artist ID, session ID, location, and user agent and set to `songplay_data`\n",
    "\n",
    "#### Insert Records into Songplays Table\n",
    "- Implement the `songplay_table_insert` query and run the cell below to insert records for the songplay actions in this log file into the `songplays` table. Remember to run `create_tables.py` before running the cell below to ensure you've created/resetted the `songplays` table in the sparkify database."
   ]
  },
  {
   "cell_type": "code",
   "execution_count": 28,
   "metadata": {},
   "outputs": [],
   "source": [
    "for index, row in df.iterrows():\n",
    "\n",
    "    # get songid and artistid from song and artist tables\n",
    "    cur.execute(song_select, (row.song, row.artist, row.length))\n",
    "    results = cur.fetchone()\n",
    "    \n",
    "    if results:\n",
    "        songid, artistid = results\n",
    "    else:\n",
    "        songid, artistid = None, None\n",
    "\n",
    "    # insert songplay record\n",
    "    start_time = pd.to_datetime(row.ts, unit='ms').strftime('%Y-%m-%d %I:%M:%S')\n",
    "    songplay_data = (start_time, row.userId, row.level, str(songid), str(artistid), row.sessionId, row.location, row.userAgent)\n",
    "    cur.execute(songplay_table_insert, songplay_data)\n",
    "    conn.commit()"
   ]
  },
  {
   "cell_type": "markdown",
   "metadata": {},
   "source": [
    "Run `test.ipynb` to see if you've successfully added records to this table."
   ]
  },
  {
   "cell_type": "markdown",
   "metadata": {},
   "source": [
    "# Close Connection to Sparkify Database"
   ]
  },
  {
   "cell_type": "code",
   "execution_count": 29,
   "metadata": {},
   "outputs": [],
   "source": [
    "conn.close()"
   ]
  },
  {
   "cell_type": "markdown",
   "metadata": {},
   "source": [
    "# Implement `etl.py`\n",
    "Use what you've completed in this notebook to implement `etl.py`."
   ]
  }
 ],
 "metadata": {
  "kernelspec": {
   "display_name": "Python 3",
   "language": "python",
   "name": "python3"
  },
  "language_info": {
   "codemirror_mode": {
    "name": "ipython",
    "version": 3
   },
   "file_extension": ".py",
   "mimetype": "text/x-python",
   "name": "python",
   "nbconvert_exporter": "python",
   "pygments_lexer": "ipython3",
   "version": "3.7.5"
  }
 },
 "nbformat": 4,
 "nbformat_minor": 2
}
